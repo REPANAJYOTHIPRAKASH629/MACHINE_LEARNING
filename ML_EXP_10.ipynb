{
  "nbformat": 4,
  "nbformat_minor": 0,
  "metadata": {
    "colab": {
      "provenance": [],
      "authorship_tag": "ABX9TyNmIylWMqaPQZ4fbKwqpo+a",
      "include_colab_link": true
    },
    "kernelspec": {
      "name": "python3",
      "display_name": "Python 3"
    },
    "language_info": {
      "name": "python"
    }
  },
  "cells": [
    {
      "cell_type": "markdown",
      "metadata": {
        "id": "view-in-github",
        "colab_type": "text"
      },
      "source": [
        "<a href=\"https://colab.research.google.com/github/REPANAJYOTHIPRAKASH629/MACHINE_LEARNING/blob/main/ML_EXP_10.ipynb\" target=\"_parent\"><img src=\"https://colab.research.google.com/assets/colab-badge.svg\" alt=\"Open In Colab\"/></a>"
      ]
    },
    {
      "cell_type": "code",
      "execution_count": null,
      "metadata": {
        "colab": {
          "base_uri": "https://localhost:8080/"
        },
        "id": "1i5iHCAsw0Vh",
        "outputId": "0acce517-615d-41b1-b101-0d6f8f74378f"
      },
      "outputs": [
        {
          "output_type": "stream",
          "name": "stdout",
          "text": [
            "Epoch 0: Loss - 0.585550057892509\n",
            "Epoch 100: Loss - 0.3110373679982162\n",
            "Epoch 200: Loss - 0.12868652680069972\n",
            "Epoch 300: Loss - 0.12763854982131906\n",
            "Epoch 400: Loss - 0.1273065165251276\n",
            "Epoch 500: Loss - 0.12714331007260116\n",
            "Epoch 600: Loss - 0.12704501452126285\n",
            "Epoch 700: Loss - 0.12697648894462252\n",
            "Epoch 800: Loss - 0.1269196084552261\n",
            "Epoch 900: Loss - 0.1268607582892578\n",
            "Predicted Output on Test Data:\n",
            "[[0.01182422 0.3312338  0.68373958]\n",
            " [0.9817065  0.00795597 0.01219296]\n",
            " [0.01179045 0.33152506 0.68411831]\n",
            " [0.01184249 0.33106692 0.68353264]\n",
            " [0.01182385 0.33122503 0.68374058]\n",
            " [0.98167365 0.00796691 0.01220874]\n",
            " [0.01455361 0.308822   0.65515432]\n",
            " [0.01179372 0.33150052 0.68408228]\n",
            " [0.01179893 0.33147272 0.6840286 ]\n",
            " [0.01242889 0.32579903 0.67700269]\n",
            " [0.01179535 0.33148859 0.68406443]\n",
            " [0.98159381 0.00799576 0.01224921]\n",
            " [0.98170025 0.00796172 0.01219809]\n",
            " [0.9816028  0.0079903  0.01224315]\n",
            " [0.98168788 0.00796572 0.01220383]\n",
            " [0.01186416 0.33085532 0.68328381]\n",
            " [0.01179005 0.33153447 0.684124  ]\n",
            " [0.01215193 0.32827604 0.68006508]\n",
            " [0.01183163 0.33117817 0.6836591 ]\n",
            " [0.0117899  0.33153796 0.68412624]\n",
            " [0.98153644 0.0080057  0.01227103]\n",
            " [0.0117966  0.3314847  0.6840522 ]\n",
            " [0.98161007 0.00798397 0.01223691]\n",
            " [0.01178991 0.33153803 0.68412613]\n",
            " [0.01179094 0.33152029 0.68411264]\n",
            " [0.01179134 0.33152378 0.68410965]\n",
            " [0.01179    0.33153535 0.68412477]\n",
            " [0.01179028 0.33153006 0.68412088]\n",
            " [0.98156234 0.00800154 0.01226138]\n",
            " [0.98151821 0.00800853 0.01227791]]\n"
          ]
        }
      ],
      "source": [
        "from sklearn.datasets import load_iris\n",
        "from sklearn.model_selection import train_test_split\n",
        "from sklearn.preprocessing import OneHotEncoder\n",
        "import numpy as np\n",
        "\n",
        "# Load the Iris dataset\n",
        "iris = load_iris()\n",
        "X = iris.data\n",
        "y = iris.target\n",
        "\n",
        "# One-hot encode the target variable\n",
        "enc = OneHotEncoder()\n",
        "y = enc.fit_transform(y.reshape(-1, 1)).toarray()\n",
        "\n",
        "# Split the data into training and testing sets\n",
        "X_train, X_test, y_train, y_test = train_test_split(X, y, test_size=0.2, random_state=42)\n",
        "\n",
        "# Neural Network class\n",
        "class NeuralNetwork:\n",
        "    def __init__(self, input_size, hidden_size, output_size):\n",
        "        self.input_size = input_size\n",
        "        self.hidden_size = hidden_size\n",
        "        self.output_size = output_size\n",
        "        self.weights_input_hidden = np.random.rand(self.input_size, self.hidden_size)\n",
        "        self.bias_input_hidden = np.random.rand(1, self.hidden_size)\n",
        "        self.weights_hidden_output = np.random.rand(self.hidden_size, self.output_size)\n",
        "        self.bias_hidden_output = np.random.rand(1, self.output_size)\n",
        "\n",
        "    def sigmoid(self, x):\n",
        "        return 1 / (1 + np.exp(-x))\n",
        "\n",
        "    def sigmoid_derivative(self, x):\n",
        "        return x * (1 - x)\n",
        "\n",
        "    def forward(self, X):\n",
        "        self.hidden_input = np.dot(X, self.weights_input_hidden) + self.bias_input_hidden\n",
        "        self.hidden_output = self.sigmoid(self.hidden_input)\n",
        "        self.output_layer_input = np.dot(self.hidden_output, self.weights_hidden_output) + self.bias_hidden_output\n",
        "        self.predicted_output = self.sigmoid(self.output_layer_input)\n",
        "        return self.predicted_output\n",
        "\n",
        "    def backward(self, X, y, output, learning_rate):\n",
        "        self.error = y - output\n",
        "        delta_output = self.error * self.sigmoid_derivative(output)\n",
        "        self.hidden_layer_error = delta_output.dot(self.weights_hidden_output.T)\n",
        "        delta_hidden = self.hidden_layer_error * self.sigmoid_derivative(self.hidden_output)\n",
        "        self.weights_hidden_output += self.hidden_output.T.dot(delta_output) * learning_rate\n",
        "        self.bias_hidden_output += np.sum(delta_output, axis=0, keepdims=True) * learning_rate\n",
        "        self.weights_input_hidden += X.T.dot(delta_hidden) * learning_rate\n",
        "        self.bias_input_hidden += np.sum(delta_hidden, axis=0, keepdims=True) * learning_rate\n",
        "\n",
        "    def train(self, X, y, epochs, learning_rate):\n",
        "        for epoch in range(epochs):\n",
        "            output = self.forward(X)\n",
        "            self.backward(X, y, output, learning_rate)\n",
        "            if epoch % 100 == 0:\n",
        "                loss = np.mean(np.square(y - output))\n",
        "                print(f\"Epoch {epoch}: Loss - {loss}\")\n",
        "\n",
        "# Initialize neural network\n",
        "nn = NeuralNetwork(input_size=X.shape[1], hidden_size=4, output_size=y.shape[1])\n",
        "\n",
        "# Train the network\n",
        "nn.train(X_train, y_train, epochs=1000, learning_rate=0.1)\n",
        "\n",
        "# Test the trained network\n",
        "predicted_output = nn.forward(X_test)\n",
        "print(\"Predicted Output on Test Data:\")\n",
        "print(predicted_output)\n"
      ]
    }
  ]
}